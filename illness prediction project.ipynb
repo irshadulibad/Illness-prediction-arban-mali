{
 "cells": [
  {
   "cell_type": "code",
   "execution_count": 1,
   "id": "d75cda61-fbb8-4da6-bb1b-0ccd0c40fc17",
   "metadata": {},
   "outputs": [],
   "source": [
    "import pandas as pd\n",
    "import numpy as np \n",
    "import matplotlib.pyplot as plt\n",
    "import seaborn as sns"
   ]
  },
  {
   "cell_type": "code",
   "execution_count": 2,
   "id": "c89dc503-d637-4c7a-b451-0e6437abdfc3",
   "metadata": {},
   "outputs": [],
   "source": [
    "df=pd.read_csv(\"DeanSautmann-WBER-HealthOutcomesMali (1).csv\")"
   ]
  },
  {
   "cell_type": "code",
   "execution_count": 3,
   "id": "513258d3-1422-440e-9119-59d997f975b6",
   "metadata": {},
   "outputs": [
    {
     "data": {
      "text/html": [
       "<div>\n",
       "<style scoped>\n",
       "    .dataframe tbody tr th:only-of-type {\n",
       "        vertical-align: middle;\n",
       "    }\n",
       "\n",
       "    .dataframe tbody tr th {\n",
       "        vertical-align: top;\n",
       "    }\n",
       "\n",
       "    .dataframe thead th {\n",
       "        text-align: right;\n",
       "    }\n",
       "</style>\n",
       "<table border=\"1\" class=\"dataframe\">\n",
       "  <thead>\n",
       "    <tr style=\"text-align: right;\">\n",
       "      <th></th>\n",
       "      <th>FPrimary</th>\n",
       "      <th>Person_ID</th>\n",
       "      <th>compound</th>\n",
       "      <th>Mother_ID</th>\n",
       "      <th>surveyor_ID</th>\n",
       "      <th>survey_date</th>\n",
       "      <th>consent</th>\n",
       "      <th>child_consent_</th>\n",
       "      <th>TrtOrder</th>\n",
       "      <th>TrtOrder2013</th>\n",
       "      <th>...</th>\n",
       "      <th>Ill_days_total</th>\n",
       "      <th>Blood_Stool_last_week</th>\n",
       "      <th>Three_Stool_last_week</th>\n",
       "      <th>MUAC_danger</th>\n",
       "      <th>mosquito_net_correct</th>\n",
       "      <th>Months_breastfeeding_correct</th>\n",
       "      <th>ORT_ingr_correct</th>\n",
       "      <th>tag_HH</th>\n",
       "      <th>tag_C</th>\n",
       "      <th>tag_M</th>\n",
       "    </tr>\n",
       "  </thead>\n",
       "  <tbody>\n",
       "    <tr>\n",
       "      <th>0</th>\n",
       "      <td>301</td>\n",
       "      <td>102</td>\n",
       "      <td>3</td>\n",
       "      <td>100</td>\n",
       "      <td>36</td>\n",
       "      <td>10/31/2014</td>\n",
       "      <td>1.0</td>\n",
       "      <td>9.0</td>\n",
       "      <td>1.0</td>\n",
       "      <td>1.0</td>\n",
       "      <td>...</td>\n",
       "      <td>3</td>\n",
       "      <td>0</td>\n",
       "      <td>0</td>\n",
       "      <td>0.0</td>\n",
       "      <td>0</td>\n",
       "      <td>0</td>\n",
       "      <td>0</td>\n",
       "      <td>0</td>\n",
       "      <td>1</td>\n",
       "      <td>1</td>\n",
       "    </tr>\n",
       "    <tr>\n",
       "      <th>1</th>\n",
       "      <td>301</td>\n",
       "      <td>101</td>\n",
       "      <td>3</td>\n",
       "      <td>100</td>\n",
       "      <td>36</td>\n",
       "      <td>10/31/2014</td>\n",
       "      <td>1.0</td>\n",
       "      <td>9.0</td>\n",
       "      <td>1.0</td>\n",
       "      <td>1.0</td>\n",
       "      <td>...</td>\n",
       "      <td>0</td>\n",
       "      <td>0</td>\n",
       "      <td>0</td>\n",
       "      <td>NaN</td>\n",
       "      <td>0</td>\n",
       "      <td>0</td>\n",
       "      <td>0</td>\n",
       "      <td>1</td>\n",
       "      <td>0</td>\n",
       "      <td>0</td>\n",
       "    </tr>\n",
       "    <tr>\n",
       "      <th>2</th>\n",
       "      <td>601</td>\n",
       "      <td>101</td>\n",
       "      <td>6</td>\n",
       "      <td>100</td>\n",
       "      <td>36</td>\n",
       "      <td>10/30/2014</td>\n",
       "      <td>1.0</td>\n",
       "      <td>9.0</td>\n",
       "      <td>1.0</td>\n",
       "      <td>1.0</td>\n",
       "      <td>...</td>\n",
       "      <td>0</td>\n",
       "      <td>0</td>\n",
       "      <td>0</td>\n",
       "      <td>0.0</td>\n",
       "      <td>1</td>\n",
       "      <td>1</td>\n",
       "      <td>1</td>\n",
       "      <td>1</td>\n",
       "      <td>0</td>\n",
       "      <td>1</td>\n",
       "    </tr>\n",
       "    <tr>\n",
       "      <th>3</th>\n",
       "      <td>602</td>\n",
       "      <td>105</td>\n",
       "      <td>6</td>\n",
       "      <td>100</td>\n",
       "      <td>36</td>\n",
       "      <td>10/30/2014</td>\n",
       "      <td>1.0</td>\n",
       "      <td>9.0</td>\n",
       "      <td>1.0</td>\n",
       "      <td>1.0</td>\n",
       "      <td>...</td>\n",
       "      <td>0</td>\n",
       "      <td>0</td>\n",
       "      <td>0</td>\n",
       "      <td>NaN</td>\n",
       "      <td>1</td>\n",
       "      <td>1</td>\n",
       "      <td>1</td>\n",
       "      <td>0</td>\n",
       "      <td>1</td>\n",
       "      <td>1</td>\n",
       "    </tr>\n",
       "    <tr>\n",
       "      <th>4</th>\n",
       "      <td>602</td>\n",
       "      <td>310</td>\n",
       "      <td>6</td>\n",
       "      <td>300</td>\n",
       "      <td>36</td>\n",
       "      <td>10/30/2014</td>\n",
       "      <td>1.0</td>\n",
       "      <td>9.0</td>\n",
       "      <td>1.0</td>\n",
       "      <td>1.0</td>\n",
       "      <td>...</td>\n",
       "      <td>0</td>\n",
       "      <td>0</td>\n",
       "      <td>0</td>\n",
       "      <td>0.0</td>\n",
       "      <td>1</td>\n",
       "      <td>0</td>\n",
       "      <td>1</td>\n",
       "      <td>0</td>\n",
       "      <td>0</td>\n",
       "      <td>1</td>\n",
       "    </tr>\n",
       "  </tbody>\n",
       "</table>\n",
       "<p>5 rows × 243 columns</p>\n",
       "</div>"
      ],
      "text/plain": [
       "   FPrimary  Person_ID  compound  Mother_ID  surveyor_ID survey_date  consent  \\\n",
       "0       301        102         3        100           36  10/31/2014      1.0   \n",
       "1       301        101         3        100           36  10/31/2014      1.0   \n",
       "2       601        101         6        100           36  10/30/2014      1.0   \n",
       "3       602        105         6        100           36  10/30/2014      1.0   \n",
       "4       602        310         6        300           36  10/30/2014      1.0   \n",
       "\n",
       "   child_consent_  TrtOrder  TrtOrder2013  ...  Ill_days_total  \\\n",
       "0             9.0       1.0           1.0  ...               3   \n",
       "1             9.0       1.0           1.0  ...               0   \n",
       "2             9.0       1.0           1.0  ...               0   \n",
       "3             9.0       1.0           1.0  ...               0   \n",
       "4             9.0       1.0           1.0  ...               0   \n",
       "\n",
       "   Blood_Stool_last_week  Three_Stool_last_week  MUAC_danger  \\\n",
       "0                      0                      0          0.0   \n",
       "1                      0                      0          NaN   \n",
       "2                      0                      0          0.0   \n",
       "3                      0                      0          NaN   \n",
       "4                      0                      0          0.0   \n",
       "\n",
       "   mosquito_net_correct  Months_breastfeeding_correct  ORT_ingr_correct  \\\n",
       "0                     0                             0                 0   \n",
       "1                     0                             0                 0   \n",
       "2                     1                             1                 1   \n",
       "3                     1                             1                 1   \n",
       "4                     1                             0                 1   \n",
       "\n",
       "   tag_HH  tag_C  tag_M  \n",
       "0       0      1      1  \n",
       "1       1      0      0  \n",
       "2       1      0      1  \n",
       "3       0      1      1  \n",
       "4       0      0      1  \n",
       "\n",
       "[5 rows x 243 columns]"
      ]
     },
     "execution_count": 3,
     "metadata": {},
     "output_type": "execute_result"
    }
   ],
   "source": [
    "df.head()"
   ]
  },
  {
   "cell_type": "code",
   "execution_count": 4,
   "id": "a4dd3a58-0c4c-4891-8486-292b0e40c6cf",
   "metadata": {},
   "outputs": [
    {
     "data": {
      "text/plain": [
       "Index(['FPrimary', 'Person_ID', 'compound', 'Mother_ID', 'surveyor_ID',\n",
       "       'survey_date', 'consent', 'child_consent_', 'TrtOrder', 'TrtOrder2013',\n",
       "       ...\n",
       "       'Ill_days_total', 'Blood_Stool_last_week', 'Three_Stool_last_week',\n",
       "       'MUAC_danger', 'mosquito_net_correct', 'Months_breastfeeding_correct',\n",
       "       'ORT_ingr_correct', 'tag_HH', 'tag_C', 'tag_M'],\n",
       "      dtype='object', length=243)"
      ]
     },
     "execution_count": 4,
     "metadata": {},
     "output_type": "execute_result"
    }
   ],
   "source": [
    "df.columns"
   ]
  },
  {
   "cell_type": "code",
   "execution_count": 5,
   "id": "cfd85ccf-80f8-40a4-9238-84b869347111",
   "metadata": {},
   "outputs": [
    {
     "data": {
      "text/plain": [
       "FPrimary                        int64\n",
       "Person_ID                       int64\n",
       "compound                        int64\n",
       "Mother_ID                       int64\n",
       "surveyor_ID                     int64\n",
       "                                ...  \n",
       "Months_breastfeeding_correct    int64\n",
       "ORT_ingr_correct                int64\n",
       "tag_HH                          int64\n",
       "tag_C                           int64\n",
       "tag_M                           int64\n",
       "Length: 243, dtype: object"
      ]
     },
     "execution_count": 5,
     "metadata": {},
     "output_type": "execute_result"
    }
   ],
   "source": [
    "df.dtypes"
   ]
  },
  {
   "cell_type": "code",
   "execution_count": 6,
   "id": "9572daeb-87db-4aed-bece-4396e8c1e61e",
   "metadata": {},
   "outputs": [
    {
     "data": {
      "text/plain": [
       "(1652, 243)"
      ]
     },
     "execution_count": 6,
     "metadata": {},
     "output_type": "execute_result"
    }
   ],
   "source": [
    "df.shape"
   ]
  },
  {
   "cell_type": "markdown",
   "id": "67811eb1-d46e-4b8c-bdbc-3fceca1f61e6",
   "metadata": {},
   "source": [
    "### droping null values>60%"
   ]
  },
  {
   "cell_type": "code",
   "execution_count": 7,
   "id": "1558ec05-c982-485b-bf75-c370072d4341",
   "metadata": {},
   "outputs": [],
   "source": [
    "threshold = len(df) * 0.4\n",
    "df = df.dropna(axis=1, thresh=threshold)"
   ]
  },
  {
   "cell_type": "code",
   "execution_count": 8,
   "id": "09c31ed5-637e-4475-9ac9-b9fd8f6c753f",
   "metadata": {},
   "outputs": [
    {
     "data": {
      "text/plain": [
       "(1652, 152)"
      ]
     },
     "execution_count": 8,
     "metadata": {},
     "output_type": "execute_result"
    }
   ],
   "source": [
    "df.shape"
   ]
  },
  {
   "cell_type": "markdown",
   "id": "282f76b7-0206-4839-9176-c2a5f53411d8",
   "metadata": {},
   "source": [
    "### seperate catgorical and numerical columns"
   ]
  },
  {
   "cell_type": "code",
   "execution_count": 9,
   "id": "a5d5ea38-d655-4d75-ba34-fbd7299184a3",
   "metadata": {},
   "outputs": [
    {
     "name": "stdout",
     "output_type": "stream",
     "text": [
      "Binary columns: ['consent', 'Treatment1', 'Treatment2', 'Treatment3', 'Treatment4', 'In2014', 'same_compound', 'same_mother', 'GenderFA', 'LitFA', 'LangFA', 'SalaryFA', 'OOccupier', 'RelsFA', 'OldFA', 'gender', 'vaccine_card_available', 'child_present_', 'health_program_', 'health_worker_visits_check_', 'health_worker_last_2_weeks_', 'free_care_check_', 'BCG_', 'Polio_0_', 'Polio_1_', 'Polio_2_', 'Polio_3_', 'DTCoq_1_', 'DTCoq_2_', 'DTCoq_3_', 'HepatitisB_1_', 'HepatitisB_2_', 'HepatitisB_3_', 'Hib_1_', 'Hib_3_', 'Measles_', 'Yellow_Fever_', 'Vit_A_', 'Vaccine_sr_', 'BCG_sr_', 'Polio_sr_', 'DTCoq_sr_', 'Measles_sr_', 'Vit_A_sr_', 'Ill_last_week_', 'Ill_day_1_', 'Ill_day_2_', 'Ill_day_3_', 'Ill_day_4_', 'Ill_day_5_', 'Ill_day_6_', 'Ill_day_7_', 'Diarrhea_last_week_', 'Diarrhea_day_1_', 'Diarrhea_day_2_', 'Diarrhea_day_3_', 'Diarrhea_day_4_', 'Diarrhea_day_5_', 'Diarrhea_day_6_', 'Diarrhea_day_7_', 'Blood_Stool_day_1_', 'Blood_Stool_day_2_', 'Blood_Stool_day_3_', 'Blood_Stool_day_4_', 'Blood_Stool_day_5_', 'Blood_Stool_day_6_', 'Blood_Stool_day_7_', 'Three_Stool_day_1_', 'Three_Stool_day_2_', 'Three_Stool_day_3_', 'Three_Stool_day_4_', 'Three_Stool_day_5_', 'Three_Stool_day_6_', 'Three_Stool_day_7_', 'Treatment_last_week_', 'Mosquito_net_used_', 'Changed_water_source', 'Aquatabs_used', 'Water_changed', 'Water_changed_day_1', 'Water_changed_day_2', 'Water_changed_day_3', 'Water_changed_day_4', 'Water_changed_day_5', 'Water_changed_day_6', 'Water_changed_day_7', 'ORT_recipe', 'ORT_water', 'ORT_sugar', 'ORT_salt', 'WeightAge_flag', 'MUAC_flag', 'CSCOM_last_week', 'Hospital_last_week', 'Private_Clinic_last_week', 'Traditional_last_week', 'Pharmacy_last_week', 'Pharmacy_Parterre_last_week', 'Blood_Stool_last_week', 'Three_Stool_last_week', 'MUAC_danger', 'mosquito_net_correct', 'Months_breastfeeding_correct', 'ORT_ingr_correct', 'tag_HH', 'tag_C', 'tag_M']\n",
      "Numeric columns: ['FPrimary', 'Person_ID', 'compound', 'Mother_ID', 'surveyor_ID', 'child_consent_', 'TrtOrder', 'TrtOrder2013', 'AttrStatus', 'Stratum', 'HHmembers_12', 'LogAssets', 'dist1', 'Diarrhea_2013', 'age_2014', 'ageyear_2014', 'agegroup_2014', 'age_2014_2', 'age_2014_3', 'age_2014_4', 'vaccines_taken', 'vaccines_taken_nocard', 'health_program_name_', 'health_program_benefit_', 'health_worker_provides_', 'MUAC_Unadjusted', 'child_weighing_type_', 'child_weight_1_', 'child_weight_2_', 'vaccine_card_', 'Hib_2_', 'Mosquito_net_status_', 'Current_water_source', 'Measured_chlorine', 'Months_breastfeeding', 'weight', 'muac', 'WeightAge', 'MUAC', 'Diarrhea_days_total', 'Blood_Stool_days_total', 'Three_Stool_days_total', 'Ill_days_total']\n",
      "Categorical columns: ['survey_date', 'ageunit']\n"
     ]
    }
   ],
   "source": [
    "binary_cols = [\n",
    "    col for col in df.select_dtypes(include=[np.number]).columns\n",
    "    if set(df[col].dropna().unique()) <= {0, 1}\n",
    "]\n",
    "\n",
    "numerical_cols = [\n",
    "    col for col in df.select_dtypes(include=[np.number]).columns\n",
    "    if col not in binary_cols]\n",
    "\n",
    "categorical_cols = df.select_dtypes(include=['object', 'category']).columns.tolist()\n",
    "\n",
    "print(\"Binary columns:\", binary_cols)\n",
    "print(\"Numeric columns:\", numerical_cols)\n",
    "print(\"Categorical columns:\", categorical_cols)\n"
   ]
  },
  {
   "cell_type": "code",
   "execution_count": 10,
   "id": "df91ee80-aeb3-422b-b7de-9cf252a80254",
   "metadata": {},
   "outputs": [],
   "source": [
    "df = df.drop(columns=categorical_cols)"
   ]
  },
  {
   "cell_type": "markdown",
   "id": "d0bc664d-46ca-4a91-bf57-835f5bb88aa3",
   "metadata": {},
   "source": [
    "### filling null values"
   ]
  },
  {
   "cell_type": "code",
   "execution_count": 11,
   "id": "ec2e6ec8-d623-4e9e-81d1-6e9682678caa",
   "metadata": {},
   "outputs": [],
   "source": [
    "from sklearn.impute import SimpleImputer\n",
    "\n",
    "df[numerical_cols] = SimpleImputer(strategy='mean').fit_transform(df[numerical_cols])\n",
    "\n",
    "df[binary_cols] = SimpleImputer(strategy='most_frequent').fit_transform(df[binary_cols]).astype(int)"
   ]
  },
  {
   "cell_type": "code",
   "execution_count": 12,
   "id": "2d5a0add-f460-474a-ba10-03edb0f9a80d",
   "metadata": {},
   "outputs": [
    {
     "name": "stdout",
     "output_type": "stream",
     "text": [
      "FPrimary                   0\n",
      "Person_ID                  0\n",
      "compound                   0\n",
      "Mother_ID                  0\n",
      "surveyor_ID                0\n",
      "child_consent_             0\n",
      "TrtOrder                   0\n",
      "TrtOrder2013               0\n",
      "AttrStatus                 0\n",
      "Stratum                    0\n",
      "HHmembers_12               0\n",
      "LogAssets                  0\n",
      "dist1                      0\n",
      "Diarrhea_2013              0\n",
      "age_2014                   0\n",
      "ageyear_2014               0\n",
      "agegroup_2014              0\n",
      "age_2014_2                 0\n",
      "age_2014_3                 0\n",
      "age_2014_4                 0\n",
      "vaccines_taken             0\n",
      "vaccines_taken_nocard      0\n",
      "health_program_name_       0\n",
      "health_program_benefit_    0\n",
      "health_worker_provides_    0\n",
      "MUAC_Unadjusted            0\n",
      "child_weighing_type_       0\n",
      "child_weight_1_            0\n",
      "child_weight_2_            0\n",
      "vaccine_card_              0\n",
      "Hib_2_                     0\n",
      "Mosquito_net_status_       0\n",
      "Current_water_source       0\n",
      "Measured_chlorine          0\n",
      "Months_breastfeeding       0\n",
      "weight                     0\n",
      "muac                       0\n",
      "WeightAge                  0\n",
      "MUAC                       0\n",
      "Diarrhea_days_total        0\n",
      "Blood_Stool_days_total     0\n",
      "Three_Stool_days_total     0\n",
      "Ill_days_total             0\n",
      "dtype: int64\n",
      "FPrimary                   0\n",
      "Person_ID                  0\n",
      "compound                   0\n",
      "Mother_ID                  0\n",
      "surveyor_ID                0\n",
      "child_consent_             0\n",
      "TrtOrder                   0\n",
      "TrtOrder2013               0\n",
      "AttrStatus                 0\n",
      "Stratum                    0\n",
      "HHmembers_12               0\n",
      "LogAssets                  0\n",
      "dist1                      0\n",
      "Diarrhea_2013              0\n",
      "age_2014                   0\n",
      "ageyear_2014               0\n",
      "agegroup_2014              0\n",
      "age_2014_2                 0\n",
      "age_2014_3                 0\n",
      "age_2014_4                 0\n",
      "vaccines_taken             0\n",
      "vaccines_taken_nocard      0\n",
      "health_program_name_       0\n",
      "health_program_benefit_    0\n",
      "health_worker_provides_    0\n",
      "MUAC_Unadjusted            0\n",
      "child_weighing_type_       0\n",
      "child_weight_1_            0\n",
      "child_weight_2_            0\n",
      "vaccine_card_              0\n",
      "Hib_2_                     0\n",
      "Mosquito_net_status_       0\n",
      "Current_water_source       0\n",
      "Measured_chlorine          0\n",
      "Months_breastfeeding       0\n",
      "weight                     0\n",
      "muac                       0\n",
      "WeightAge                  0\n",
      "MUAC                       0\n",
      "Diarrhea_days_total        0\n",
      "Blood_Stool_days_total     0\n",
      "Three_Stool_days_total     0\n",
      "Ill_days_total             0\n",
      "dtype: int64\n"
     ]
    }
   ],
   "source": [
    "print(df[numerical_cols].isna().sum())\n",
    "print(df[numerical_cols].isnull().sum())  \n"
   ]
  },
  {
   "cell_type": "code",
   "execution_count": null,
   "id": "3c3984d1-18d4-4cb0-a06f-260775ab7389",
   "metadata": {},
   "outputs": [],
   "source": []
  },
  {
   "cell_type": "code",
   "execution_count": 13,
   "id": "4b08e289-b372-4a99-bf8a-e8555653ab23",
   "metadata": {},
   "outputs": [
    {
     "data": {
      "text/html": [
       "<div>\n",
       "<style scoped>\n",
       "    .dataframe tbody tr th:only-of-type {\n",
       "        vertical-align: middle;\n",
       "    }\n",
       "\n",
       "    .dataframe tbody tr th {\n",
       "        vertical-align: top;\n",
       "    }\n",
       "\n",
       "    .dataframe thead th {\n",
       "        text-align: right;\n",
       "    }\n",
       "</style>\n",
       "<table border=\"1\" class=\"dataframe\">\n",
       "  <thead>\n",
       "    <tr style=\"text-align: right;\">\n",
       "      <th></th>\n",
       "      <th>FPrimary</th>\n",
       "      <th>Person_ID</th>\n",
       "      <th>compound</th>\n",
       "      <th>Mother_ID</th>\n",
       "      <th>surveyor_ID</th>\n",
       "      <th>consent</th>\n",
       "      <th>child_consent_</th>\n",
       "      <th>TrtOrder</th>\n",
       "      <th>TrtOrder2013</th>\n",
       "      <th>Treatment1</th>\n",
       "      <th>...</th>\n",
       "      <th>Ill_days_total</th>\n",
       "      <th>Blood_Stool_last_week</th>\n",
       "      <th>Three_Stool_last_week</th>\n",
       "      <th>MUAC_danger</th>\n",
       "      <th>mosquito_net_correct</th>\n",
       "      <th>Months_breastfeeding_correct</th>\n",
       "      <th>ORT_ingr_correct</th>\n",
       "      <th>tag_HH</th>\n",
       "      <th>tag_C</th>\n",
       "      <th>tag_M</th>\n",
       "    </tr>\n",
       "  </thead>\n",
       "  <tbody>\n",
       "    <tr>\n",
       "      <th>1647</th>\n",
       "      <td>550201.0</td>\n",
       "      <td>5151.0</td>\n",
       "      <td>5502.0</td>\n",
       "      <td>5100.0</td>\n",
       "      <td>40.0</td>\n",
       "      <td>1</td>\n",
       "      <td>7.652893</td>\n",
       "      <td>4.0</td>\n",
       "      <td>4.000000</td>\n",
       "      <td>0</td>\n",
       "      <td>...</td>\n",
       "      <td>0.0</td>\n",
       "      <td>0</td>\n",
       "      <td>0</td>\n",
       "      <td>0</td>\n",
       "      <td>1</td>\n",
       "      <td>1</td>\n",
       "      <td>1</td>\n",
       "      <td>0</td>\n",
       "      <td>0</td>\n",
       "      <td>1</td>\n",
       "    </tr>\n",
       "    <tr>\n",
       "      <th>1648</th>\n",
       "      <td>550201.0</td>\n",
       "      <td>5150.0</td>\n",
       "      <td>5502.0</td>\n",
       "      <td>5100.0</td>\n",
       "      <td>40.0</td>\n",
       "      <td>1</td>\n",
       "      <td>7.652893</td>\n",
       "      <td>4.0</td>\n",
       "      <td>4.000000</td>\n",
       "      <td>0</td>\n",
       "      <td>...</td>\n",
       "      <td>0.0</td>\n",
       "      <td>0</td>\n",
       "      <td>0</td>\n",
       "      <td>0</td>\n",
       "      <td>1</td>\n",
       "      <td>1</td>\n",
       "      <td>1</td>\n",
       "      <td>1</td>\n",
       "      <td>1</td>\n",
       "      <td>0</td>\n",
       "    </tr>\n",
       "    <tr>\n",
       "      <th>1649</th>\n",
       "      <td>580101.0</td>\n",
       "      <td>5152.0</td>\n",
       "      <td>5801.0</td>\n",
       "      <td>5100.0</td>\n",
       "      <td>40.0</td>\n",
       "      <td>1</td>\n",
       "      <td>7.652893</td>\n",
       "      <td>3.0</td>\n",
       "      <td>3.000000</td>\n",
       "      <td>0</td>\n",
       "      <td>...</td>\n",
       "      <td>0.0</td>\n",
       "      <td>0</td>\n",
       "      <td>0</td>\n",
       "      <td>0</td>\n",
       "      <td>1</td>\n",
       "      <td>1</td>\n",
       "      <td>0</td>\n",
       "      <td>0</td>\n",
       "      <td>1</td>\n",
       "      <td>1</td>\n",
       "    </tr>\n",
       "    <tr>\n",
       "      <th>1650</th>\n",
       "      <td>580101.0</td>\n",
       "      <td>5153.0</td>\n",
       "      <td>5801.0</td>\n",
       "      <td>5100.0</td>\n",
       "      <td>40.0</td>\n",
       "      <td>1</td>\n",
       "      <td>7.652893</td>\n",
       "      <td>3.0</td>\n",
       "      <td>2.507339</td>\n",
       "      <td>0</td>\n",
       "      <td>...</td>\n",
       "      <td>0.0</td>\n",
       "      <td>0</td>\n",
       "      <td>0</td>\n",
       "      <td>0</td>\n",
       "      <td>1</td>\n",
       "      <td>1</td>\n",
       "      <td>0</td>\n",
       "      <td>1</td>\n",
       "      <td>0</td>\n",
       "      <td>0</td>\n",
       "    </tr>\n",
       "    <tr>\n",
       "      <th>1651</th>\n",
       "      <td>580201.0</td>\n",
       "      <td>5050.0</td>\n",
       "      <td>5802.0</td>\n",
       "      <td>5000.0</td>\n",
       "      <td>25.0</td>\n",
       "      <td>1</td>\n",
       "      <td>9.000000</td>\n",
       "      <td>2.0</td>\n",
       "      <td>2.000000</td>\n",
       "      <td>0</td>\n",
       "      <td>...</td>\n",
       "      <td>0.0</td>\n",
       "      <td>0</td>\n",
       "      <td>0</td>\n",
       "      <td>0</td>\n",
       "      <td>1</td>\n",
       "      <td>1</td>\n",
       "      <td>1</td>\n",
       "      <td>0</td>\n",
       "      <td>1</td>\n",
       "      <td>1</td>\n",
       "    </tr>\n",
       "  </tbody>\n",
       "</table>\n",
       "<p>5 rows × 150 columns</p>\n",
       "</div>"
      ],
      "text/plain": [
       "      FPrimary  Person_ID  compound  Mother_ID  surveyor_ID  consent  \\\n",
       "1647  550201.0     5151.0    5502.0     5100.0         40.0        1   \n",
       "1648  550201.0     5150.0    5502.0     5100.0         40.0        1   \n",
       "1649  580101.0     5152.0    5801.0     5100.0         40.0        1   \n",
       "1650  580101.0     5153.0    5801.0     5100.0         40.0        1   \n",
       "1651  580201.0     5050.0    5802.0     5000.0         25.0        1   \n",
       "\n",
       "      child_consent_  TrtOrder  TrtOrder2013  Treatment1  ...  Ill_days_total  \\\n",
       "1647        7.652893       4.0      4.000000           0  ...             0.0   \n",
       "1648        7.652893       4.0      4.000000           0  ...             0.0   \n",
       "1649        7.652893       3.0      3.000000           0  ...             0.0   \n",
       "1650        7.652893       3.0      2.507339           0  ...             0.0   \n",
       "1651        9.000000       2.0      2.000000           0  ...             0.0   \n",
       "\n",
       "      Blood_Stool_last_week  Three_Stool_last_week  MUAC_danger  \\\n",
       "1647                      0                      0            0   \n",
       "1648                      0                      0            0   \n",
       "1649                      0                      0            0   \n",
       "1650                      0                      0            0   \n",
       "1651                      0                      0            0   \n",
       "\n",
       "      mosquito_net_correct  Months_breastfeeding_correct  ORT_ingr_correct  \\\n",
       "1647                     1                             1                 1   \n",
       "1648                     1                             1                 1   \n",
       "1649                     1                             1                 0   \n",
       "1650                     1                             1                 0   \n",
       "1651                     1                             1                 1   \n",
       "\n",
       "      tag_HH  tag_C  tag_M  \n",
       "1647       0      0      1  \n",
       "1648       1      1      0  \n",
       "1649       0      1      1  \n",
       "1650       1      0      0  \n",
       "1651       0      1      1  \n",
       "\n",
       "[5 rows x 150 columns]"
      ]
     },
     "execution_count": 13,
     "metadata": {},
     "output_type": "execute_result"
    }
   ],
   "source": [
    "df.tail()"
   ]
  },
  {
   "cell_type": "markdown",
   "id": "93ed7437-c613-4a37-ae20-903c30a75c39",
   "metadata": {},
   "source": [
    "### droping high correlated features"
   ]
  },
  {
   "cell_type": "code",
   "execution_count": 14,
   "id": "5fdd039a-b787-440a-b714-3ab7042ed681",
   "metadata": {},
   "outputs": [
    {
     "name": "stdout",
     "output_type": "stream",
     "text": [
      "Ill_last_week_    1.000000\n",
      "Ill_days_total    0.792698\n",
      "Ill_day_5_        0.736596\n",
      "Ill_day_6_        0.712887\n",
      "Ill_day_4_        0.700827\n",
      "                    ...   \n",
      "child_present_         NaN\n",
      "ORT_water              NaN\n",
      "ORT_sugar              NaN\n",
      "ORT_salt               NaN\n",
      "MUAC_flag              NaN\n",
      "Name: Ill_last_week_, Length: 150, dtype: float64\n"
     ]
    }
   ],
   "source": [
    "corr = df.corr(numeric_only=True)\n",
    "corr_target = corr['Ill_last_week_'].sort_values(ascending=False)\n",
    "print(corr_target)"
   ]
  },
  {
   "cell_type": "code",
   "execution_count": 15,
   "id": "992dbb86-3334-41c3-922b-c253bcd03ce8",
   "metadata": {},
   "outputs": [
    {
     "name": "stdout",
     "output_type": "stream",
     "text": [
      "Highly correlated features to drop: ['compound', 'Mother_ID', 'TrtOrder2013', 'ageyear_2014', 'agegroup_2014', 'age_2014_2', 'age_2014_3', 'age_2014_4', 'child_weight_2_', 'Polio_2_', 'Polio_3_', 'DTCoq_2_', 'DTCoq_3_', 'HepatitisB_2_', 'HepatitisB_3_', 'Hib_1_', 'Hib_2_', 'Hib_3_', 'Yellow_Fever_', 'Diarrhea_day_3_', 'Blood_Stool_day_5_', 'Blood_Stool_day_7_', 'Three_Stool_day_2_', 'Three_Stool_day_3_', 'Three_Stool_day_5_', 'Three_Stool_day_6_', 'weight', 'muac', 'Blood_Stool_days_total', 'Three_Stool_days_total', 'Ill_days_total', 'Blood_Stool_last_week', 'Three_Stool_last_week', 'mosquito_net_correct', 'ORT_ingr_correct']\n"
     ]
    }
   ],
   "source": [
    "corr_matrix = df.corr().abs()\n",
    "upper = corr_matrix.where(np.triu(np.ones(corr_matrix.shape), k=1).astype(bool))\n",
    "to_drop = [column for column in upper.columns if any(upper[column] > 0.8)]\n",
    "\n",
    "print(\"Highly correlated features to drop:\", to_drop)\n",
    "df= df.drop(columns=to_drop)"
   ]
  },
  {
   "cell_type": "code",
   "execution_count": 16,
   "id": "d2a05549-e820-40b6-8fa0-1dd075c15113",
   "metadata": {},
   "outputs": [
    {
     "data": {
      "text/plain": [
       "(1652, 115)"
      ]
     },
     "execution_count": 16,
     "metadata": {},
     "output_type": "execute_result"
    }
   ],
   "source": [
    "df.shape"
   ]
  },
  {
   "cell_type": "markdown",
   "id": "c26ab727-ac17-489e-ab35-d5f729d30398",
   "metadata": {},
   "source": [
    "### split features and target(x,y)"
   ]
  },
  {
   "cell_type": "code",
   "execution_count": 17,
   "id": "6f478ae4-8ead-4c03-826f-b8a7654020df",
   "metadata": {},
   "outputs": [],
   "source": [
    "x=df.drop([\"Ill_last_week_\"], axis=\"columns\")\n",
    "y = df[\"Ill_last_week_\"]"
   ]
  },
  {
   "cell_type": "markdown",
   "id": "a1d90d81-bb6b-4f1d-bba8-05c3eba408ae",
   "metadata": {},
   "source": [
    "### droping id,leaky columns"
   ]
  },
  {
   "cell_type": "code",
   "execution_count": 18,
   "id": "dfc63009-ab8d-486a-af3b-9ad1ac02ee25",
   "metadata": {},
   "outputs": [],
   "source": [
    "keywords = ['id','date','diarrhea', 'stool', 'hospital', 'clinic', 'treatment', 'pharmacy', 'day', 'week', 'age']\n",
    "\n",
    "x = x.drop(columns=[col for col in x.columns if any(k in col.lower() for k in keywords)])\n"
   ]
  },
  {
   "cell_type": "code",
   "execution_count": 19,
   "id": "ecee4e51-1319-445a-86d6-b091166b8a0c",
   "metadata": {},
   "outputs": [
    {
     "data": {
      "text/plain": [
       "(1652, 65)"
      ]
     },
     "execution_count": 19,
     "metadata": {},
     "output_type": "execute_result"
    }
   ],
   "source": [
    "x.shape"
   ]
  },
  {
   "cell_type": "markdown",
   "id": "3f00ec07-c70b-4ad7-a869-701206cf4718",
   "metadata": {},
   "source": [
    "### droping Low-Variance Features "
   ]
  },
  {
   "cell_type": "code",
   "execution_count": 20,
   "id": "91263d69-086c-436c-bb1f-2a8b334d6326",
   "metadata": {},
   "outputs": [],
   "source": [
    "from sklearn.feature_selection import VarianceThreshold\n",
    "\n",
    "selector = VarianceThreshold(threshold=0.01)\n",
    "x = x[x.columns[selector.fit(x).get_support()]]\n",
    "df = pd.concat([x, df['Ill_last_week_']], axis=1)\n"
   ]
  },
  {
   "cell_type": "code",
   "execution_count": 21,
   "id": "d47d162e-412d-4c56-bafa-766b0e45ae2b",
   "metadata": {},
   "outputs": [
    {
     "data": {
      "text/plain": [
       "(1652, 54)"
      ]
     },
     "execution_count": 21,
     "metadata": {},
     "output_type": "execute_result"
    }
   ],
   "source": [
    "x.shape"
   ]
  },
  {
   "cell_type": "markdown",
   "id": "c93919ff-affe-481f-b822-829b1a31a471",
   "metadata": {},
   "source": [
    "### train test split"
   ]
  },
  {
   "cell_type": "code",
   "execution_count": 22,
   "id": "498174e2-939a-443d-9f0a-1f675b92162d",
   "metadata": {},
   "outputs": [],
   "source": [
    "from sklearn.model_selection import train_test_split\n",
    "xtrain,xtest,ytrain,ytest=train_test_split(x,y,test_size=0.2,random_state=42,stratify=y)"
   ]
  },
  {
   "cell_type": "markdown",
   "id": "9869d2f3-2465-4049-b2f3-f6a90cd313da",
   "metadata": {},
   "source": [
    "### dimonsion reduction using RFE"
   ]
  },
  {
   "cell_type": "code",
   "execution_count": 23,
   "id": "97b5b351-46ca-4538-8232-a4ee9ed87002",
   "metadata": {},
   "outputs": [
    {
     "name": "stdout",
     "output_type": "stream",
     "text": [
      "Selected features: ['FPrimary', 'Stratum', 'HHmembers_12', 'LogAssets', 'dist1', 'vaccines_taken_nocard', 'MUAC_Unadjusted', 'child_weight_1_', 'Measured_chlorine', 'MUAC']\n"
     ]
    }
   ],
   "source": [
    "from sklearn.feature_selection import RFE\n",
    "from sklearn.ensemble import RandomForestClassifier\n",
    "\n",
    "model = RandomForestClassifier(class_weight='balanced', random_state=42)\n",
    "\n",
    "selector = RFE(model, n_features_to_select=10)\n",
    "selector.fit(xtrain, ytrain)\n",
    "\n",
    "selected_features = xtrain.columns[selector.support_]\n",
    "print(\"Selected features:\", selected_features.tolist())\n",
    "\n"
   ]
  },
  {
   "cell_type": "code",
   "execution_count": 24,
   "id": "5c274cf6-acd2-4a29-9f62-95b29c6fac55",
   "metadata": {},
   "outputs": [
    {
     "data": {
      "image/png": "[encoded data removed]",
      "text/plain": [
       "<Figure size 800x500 with 1 Axes>"
      ]
     },
     "metadata": {},
     "output_type": "display_data"
    }
   ],
   "source": [
    "correlations = xtrain[selected_features].apply(lambda col: col.corr(ytrain))\n",
    "\n",
    "correlations_sorted = correlations.abs().sort_values(ascending=True)\n",
    "\n",
    "plt.figure(figsize=(8, len(correlations_sorted) * 0.5))\n",
    "correlations_sorted.plot(kind='barh', color='skyblue')\n",
    "plt.xlabel('Absolute Correlation with Target')\n",
    "plt.title('Correlation of Selected Features with Target')\n",
    "plt.grid(axis='x')\n",
    "plt.show()\n"
   ]
  },
  {
   "cell_type": "code",
   "execution_count": 25,
   "id": "501c2686-40fb-4d3f-b19c-43174ed00780",
   "metadata": {},
   "outputs": [
    {
     "data": {
      "text/html": [
       "<div>\n",
       "<style scoped>\n",
       "    .dataframe tbody tr th:only-of-type {\n",
       "        vertical-align: middle;\n",
       "    }\n",
       "\n",
       "    .dataframe tbody tr th {\n",
       "        vertical-align: top;\n",
       "    }\n",
       "\n",
       "    .dataframe thead th {\n",
       "        text-align: right;\n",
       "    }\n",
       "</style>\n",
       "<table border=\"1\" class=\"dataframe\">\n",
       "  <thead>\n",
       "    <tr style=\"text-align: right;\">\n",
       "      <th></th>\n",
       "      <th>FPrimary</th>\n",
       "      <th>child_consent_</th>\n",
       "      <th>TrtOrder</th>\n",
       "      <th>AttrStatus</th>\n",
       "      <th>same_compound</th>\n",
       "      <th>same_mother</th>\n",
       "      <th>Stratum</th>\n",
       "      <th>HHmembers_12</th>\n",
       "      <th>GenderFA</th>\n",
       "      <th>LitFA</th>\n",
       "      <th>...</th>\n",
       "      <th>Water_changed</th>\n",
       "      <th>Measured_chlorine</th>\n",
       "      <th>ORT_recipe</th>\n",
       "      <th>Months_breastfeeding</th>\n",
       "      <th>MUAC</th>\n",
       "      <th>MUAC_danger</th>\n",
       "      <th>Months_breastfeeding_correct</th>\n",
       "      <th>tag_HH</th>\n",
       "      <th>tag_C</th>\n",
       "      <th>tag_M</th>\n",
       "    </tr>\n",
       "  </thead>\n",
       "  <tbody>\n",
       "    <tr>\n",
       "      <th>210</th>\n",
       "      <td>10402.0</td>\n",
       "      <td>9.0</td>\n",
       "      <td>2.0</td>\n",
       "      <td>6.00000</td>\n",
       "      <td>1</td>\n",
       "      <td>1</td>\n",
       "      <td>20.0</td>\n",
       "      <td>11.0</td>\n",
       "      <td>1</td>\n",
       "      <td>0</td>\n",
       "      <td>...</td>\n",
       "      <td>1</td>\n",
       "      <td>0.0</td>\n",
       "      <td>0</td>\n",
       "      <td>28.0</td>\n",
       "      <td>-0.570139</td>\n",
       "      <td>0</td>\n",
       "      <td>0</td>\n",
       "      <td>0</td>\n",
       "      <td>0</td>\n",
       "      <td>1</td>\n",
       "    </tr>\n",
       "    <tr>\n",
       "      <th>1525</th>\n",
       "      <td>71412.0</td>\n",
       "      <td>9.0</td>\n",
       "      <td>2.0</td>\n",
       "      <td>6.04531</td>\n",
       "      <td>1</td>\n",
       "      <td>1</td>\n",
       "      <td>9.0</td>\n",
       "      <td>3.0</td>\n",
       "      <td>1</td>\n",
       "      <td>0</td>\n",
       "      <td>...</td>\n",
       "      <td>1</td>\n",
       "      <td>0.0</td>\n",
       "      <td>1</td>\n",
       "      <td>8.0</td>\n",
       "      <td>-1.950000</td>\n",
       "      <td>1</td>\n",
       "      <td>0</td>\n",
       "      <td>0</td>\n",
       "      <td>0</td>\n",
       "      <td>1</td>\n",
       "    </tr>\n",
       "    <tr>\n",
       "      <th>1385</th>\n",
       "      <td>64901.0</td>\n",
       "      <td>9.0</td>\n",
       "      <td>1.0</td>\n",
       "      <td>6.00000</td>\n",
       "      <td>1</td>\n",
       "      <td>1</td>\n",
       "      <td>13.0</td>\n",
       "      <td>13.0</td>\n",
       "      <td>1</td>\n",
       "      <td>1</td>\n",
       "      <td>...</td>\n",
       "      <td>0</td>\n",
       "      <td>0.0</td>\n",
       "      <td>0</td>\n",
       "      <td>18.0</td>\n",
       "      <td>1.220000</td>\n",
       "      <td>0</td>\n",
       "      <td>0</td>\n",
       "      <td>1</td>\n",
       "      <td>1</td>\n",
       "      <td>1</td>\n",
       "    </tr>\n",
       "    <tr>\n",
       "      <th>1027</th>\n",
       "      <td>49901.0</td>\n",
       "      <td>9.0</td>\n",
       "      <td>4.0</td>\n",
       "      <td>7.00000</td>\n",
       "      <td>1</td>\n",
       "      <td>1</td>\n",
       "      <td>13.0</td>\n",
       "      <td>11.0</td>\n",
       "      <td>1</td>\n",
       "      <td>1</td>\n",
       "      <td>...</td>\n",
       "      <td>0</td>\n",
       "      <td>0.4</td>\n",
       "      <td>1</td>\n",
       "      <td>6.0</td>\n",
       "      <td>-0.610000</td>\n",
       "      <td>0</td>\n",
       "      <td>1</td>\n",
       "      <td>1</td>\n",
       "      <td>0</td>\n",
       "      <td>0</td>\n",
       "    </tr>\n",
       "    <tr>\n",
       "      <th>1032</th>\n",
       "      <td>50002.0</td>\n",
       "      <td>9.0</td>\n",
       "      <td>4.0</td>\n",
       "      <td>6.00000</td>\n",
       "      <td>1</td>\n",
       "      <td>1</td>\n",
       "      <td>8.0</td>\n",
       "      <td>7.0</td>\n",
       "      <td>1</td>\n",
       "      <td>1</td>\n",
       "      <td>...</td>\n",
       "      <td>1</td>\n",
       "      <td>0.0</td>\n",
       "      <td>0</td>\n",
       "      <td>6.0</td>\n",
       "      <td>-0.570139</td>\n",
       "      <td>0</td>\n",
       "      <td>1</td>\n",
       "      <td>0</td>\n",
       "      <td>1</td>\n",
       "      <td>0</td>\n",
       "    </tr>\n",
       "  </tbody>\n",
       "</table>\n",
       "<p>5 rows × 54 columns</p>\n",
       "</div>"
      ],
      "text/plain": [
       "      FPrimary  child_consent_  TrtOrder  AttrStatus  same_compound  \\\n",
       "210    10402.0             9.0       2.0     6.00000              1   \n",
       "1525   71412.0             9.0       2.0     6.04531              1   \n",
       "1385   64901.0             9.0       1.0     6.00000              1   \n",
       "1027   49901.0             9.0       4.0     7.00000              1   \n",
       "1032   50002.0             9.0       4.0     6.00000              1   \n",
       "\n",
       "      same_mother  Stratum  HHmembers_12  GenderFA  LitFA  ...  Water_changed  \\\n",
       "210             1     20.0          11.0         1      0  ...              1   \n",
       "1525            1      9.0           3.0         1      0  ...              1   \n",
       "1385            1     13.0          13.0         1      1  ...              0   \n",
       "1027            1     13.0          11.0         1      1  ...              0   \n",
       "1032            1      8.0           7.0         1      1  ...              1   \n",
       "\n",
       "      Measured_chlorine  ORT_recipe  Months_breastfeeding      MUAC  \\\n",
       "210                 0.0           0                  28.0 -0.570139   \n",
       "1525                0.0           1                   8.0 -1.950000   \n",
       "1385                0.0           0                  18.0  1.220000   \n",
       "1027                0.4           1                   6.0 -0.610000   \n",
       "1032                0.0           0                   6.0 -0.570139   \n",
       "\n",
       "      MUAC_danger  Months_breastfeeding_correct  tag_HH  tag_C  tag_M  \n",
       "210             0                             0       0      0      1  \n",
       "1525            1                             0       0      0      1  \n",
       "1385            0                             0       1      1      1  \n",
       "1027            0                             1       1      0      0  \n",
       "1032            0                             1       0      1      0  \n",
       "\n",
       "[5 rows x 54 columns]"
      ]
     },
     "execution_count": 25,
     "metadata": {},
     "output_type": "execute_result"
    }
   ],
   "source": [
    "xtrain.head()"
   ]
  },
  {
   "cell_type": "code",
   "execution_count": 26,
   "id": "9f1a6abe-a0e9-4afc-a1ec-971064031394",
   "metadata": {},
   "outputs": [],
   "source": [
    "X_train_rfe = xtrain[selected_features]  \n",
    "X_test_rfe = xtest[selected_features]"
   ]
  },
  {
   "cell_type": "code",
   "execution_count": 27,
   "id": "f3f05d66-1617-484b-aefa-1a63ea2ff72a",
   "metadata": {},
   "outputs": [
    {
     "data": {
      "text/plain": [
       "(1321, 54)"
      ]
     },
     "execution_count": 27,
     "metadata": {},
     "output_type": "execute_result"
    }
   ],
   "source": [
    "xtrain.shape"
   ]
  },
  {
   "cell_type": "markdown",
   "id": "9e9b0896-0979-45e5-97e7-6f316dd000c4",
   "metadata": {},
   "source": [
    "### sclaing numerical columns"
   ]
  },
  {
   "cell_type": "code",
   "execution_count": 28,
   "id": "e1e2bebb-3fcb-4a7e-b05e-c4ebb5bbab3d",
   "metadata": {},
   "outputs": [
    {
     "name": "stderr",
     "output_type": "stream",
     "text": [
      "C:\\Users\\user\\AppData\\Local\\Temp\\ipykernel_12924\\1252135903.py:10: SettingWithCopyWarning: \n",
      "A value is trying to be set on a copy of a slice from a DataFrame.\n",
      "Try using .loc[row_indexer,col_indexer] = value instead\n",
      "\n",
      "See the caveats in the documentation: https://pandas.pydata.org/pandas-docs/stable/user_guide/indexing.html#returning-a-view-versus-a-copy\n",
      "  X_train_rfe[numeric_in_selected] = scaler.fit_transform(X_train_rfe[numeric_in_selected])\n",
      "C:\\Users\\user\\AppData\\Local\\Temp\\ipykernel_12924\\1252135903.py:11: SettingWithCopyWarning: \n",
      "A value is trying to be set on a copy of a slice from a DataFrame.\n",
      "Try using .loc[row_indexer,col_indexer] = value instead\n",
      "\n",
      "See the caveats in the documentation: https://pandas.pydata.org/pandas-docs/stable/user_guide/indexing.html#returning-a-view-versus-a-copy\n",
      "  X_test_rfe[numeric_in_selected]  = scaler.transform(X_test_rfe[numeric_in_selected])\n"
     ]
    }
   ],
   "source": [
    "from sklearn.preprocessing import StandardScaler\n",
    "\n",
    "\n",
    "numeric_in_selected = [c for c in numerical_cols if c in X_train_rfe.columns]\n",
    "\n",
    "scaler = StandardScaler()\n",
    "\n",
    "if numeric_in_selected:\n",
    "    X_train_rfe[numeric_in_selected] = scaler.fit_transform(X_train_rfe[numeric_in_selected])\n",
    "    X_test_rfe[numeric_in_selected]  = scaler.transform(X_test_rfe[numeric_in_selected])\n"
   ]
  },
  {
   "cell_type": "markdown",
   "id": "01d3da61-83a0-495f-af2a-089ce2bfce5b",
   "metadata": {},
   "source": [
    "### smotting"
   ]
  },
  {
   "cell_type": "code",
   "execution_count": 29,
   "id": "af3644f7-b2a3-489b-9706-18945e1a1f29",
   "metadata": {},
   "outputs": [],
   "source": [
    "from imblearn.over_sampling import SMOTE\n",
    "\n",
    "smote = SMOTE(sampling_strategy=1, k_neighbors=5, random_state=42)\n",
    "X_train_res, y_train_res = smote.fit_resample(X_train_rfe, ytrain)\n"
   ]
  },
  {
   "cell_type": "code",
   "execution_count": 30,
   "id": "6576bd18-802c-4a09-a3d4-f4e9ea5c5d0c",
   "metadata": {},
   "outputs": [
    {
     "name": "stdout",
     "output_type": "stream",
     "text": [
      "Ill_last_week_\n",
      "0    1132\n",
      "1    1132\n",
      "Name: count, dtype: int64\n"
     ]
    }
   ],
   "source": [
    "print(pd.Series(y_train_res).value_counts())\n"
   ]
  },
  {
   "cell_type": "markdown",
   "id": "6387c13f-3691-492f-9cc4-14451733d991",
   "metadata": {},
   "source": [
    "### applying multiple models"
   ]
  },
  {
   "cell_type": "code",
   "execution_count": 31,
   "id": "96a7e1b6-7863-4e54-8ddd-c06685839e31",
   "metadata": {},
   "outputs": [
    {
     "name": "stdout",
     "output_type": "stream",
     "text": [
      "Logistic Regression: Average CV Accuracy = 0.59\n",
      "Random Forest: Average CV Accuracy = 0.92\n",
      "Decision Tree: Average CV Accuracy = 0.83\n",
      "SVM: Average CV Accuracy = 0.75\n",
      "KNN: Average CV Accuracy = 0.78\n",
      "Naive Bayes: Average CV Accuracy = 0.58\n"
     ]
    }
   ],
   "source": [
    "from sklearn.model_selection import cross_val_score\n",
    "from sklearn.linear_model import LogisticRegression\n",
    "from sklearn.ensemble import RandomForestClassifier\n",
    "from sklearn.tree import DecisionTreeClassifier\n",
    "from sklearn.svm import SVC\n",
    "from sklearn.neighbors import KNeighborsClassifier\n",
    "from sklearn.naive_bayes import GaussianNB\n",
    "import numpy as np\n",
    "\n",
    "models = {\n",
    "    \"Logistic Regression\": LogisticRegression(max_iter=1000),\n",
    "    \"Random Forest\": RandomForestClassifier(),\n",
    "    \"Decision Tree\": DecisionTreeClassifier(),\n",
    "    \"SVM\": SVC(),\n",
    "    \"KNN\": KNeighborsClassifier(),\n",
    "    \"Naive Bayes\": GaussianNB()\n",
    "}\n",
    "\n",
    "cv_results = {}\n",
    "for name, model in models.items():\n",
    "    scores = cross_val_score(model, X_train_res, y_train_res, cv=5, scoring='accuracy')\n",
    "    mean_score = np.mean(scores)\n",
    "    cv_results[name] = mean_score\n",
    "    print(f\"{name}: Average CV Accuracy = {mean_score:.2f}\")"
   ]
  },
  {
   "cell_type": "markdown",
   "id": "8e7919b8-88f8-478c-960a-367fc842491a",
   "metadata": {},
   "source": [
    "###  Pick best model \n"
   ]
  },
  {
   "cell_type": "code",
   "execution_count": 32,
   "id": "4a2f19ca-ce90-47fd-ade7-974e6079f74d",
   "metadata": {},
   "outputs": [
    {
     "name": "stdout",
     "output_type": "stream",
     "text": [
      "\n",
      "Best Model from CV: Random Forest\n"
     ]
    }
   ],
   "source": [
    "best_model_name = max(cv_results, key=cv_results.get)\n",
    "best_model = models[best_model_name]\n",
    "best_model.fit(X_train_res, y_train_res)\n",
    "test_accuracy = best_model.score(X_test_rfe, ytest)\n",
    "test_accuracy = best_model.score(X_test_rfe, ytest)\n",
    "\n",
    "print(\"\\nBest Model from CV:\", best_model_name)"
   ]
  },
  {
   "cell_type": "markdown",
   "id": "ddb4aa41-9b69-4a36-a5d4-39ab64beb94a",
   "metadata": {},
   "source": [
    "### hyper parameter tuning"
   ]
  },
  {
   "cell_type": "code",
   "execution_count": 33,
   "id": "c872f43d-9ccf-4640-a68b-3bf386722d8d",
   "metadata": {},
   "outputs": [],
   "source": [
    "from sklearn.model_selection import GridSearchCV\n",
    "from sklearn.ensemble import RandomForestClassifier\n",
    "\n",
    "model = RandomForestClassifier(class_weight='balanced', n_estimators=100, random_state=42)\n",
    "\n",
    "param_grid = {\n",
    "    'n_estimators': [100, 200],        \n",
    "    'max_depth': [None, 20],           \n",
    "    'min_samples_split': [2, 5],\n",
    "    'min_samples_leaf': [1, 2]\n",
    "}\n"
   ]
  },
  {
   "cell_type": "code",
   "execution_count": 34,
   "id": "0cf7d1e0-6829-4d49-9073-ddad3964263b",
   "metadata": {},
   "outputs": [
    {
     "name": "stdout",
     "output_type": "stream",
     "text": [
      "Fitting 5 folds for each of 16 candidates, totalling 80 fits\n",
      "Best Hyperparameters: {'max_depth': None, 'min_samples_leaf': 1, 'min_samples_split': 2, 'n_estimators': 200}\n",
      "Best CV Accuracy: 90.70%\n"
     ]
    }
   ],
   "source": [
    "grid_search = GridSearchCV(\n",
    "    estimator=model,\n",
    "    param_grid=param_grid,\n",
    "    cv=5,\n",
    "    scoring='f1',\n",
    "    n_jobs=-1,\n",
    "    verbose=2\n",
    ")\n",
    "\n",
    "grid_search.fit(X_train_res, y_train_res)\n",
    "\n",
    "\n",
    "best_model = grid_search.best_estimator_\n",
    "print(\"Best Hyperparameters:\", grid_search.best_params_)\n",
    "print(\"Best CV Accuracy: {:.2f}%\".format(grid_search.best_score_ * 100))\n"
   ]
  },
  {
   "cell_type": "code",
   "execution_count": 35,
   "id": "96f0bf61-47cc-4816-8c3c-e116abd479af",
   "metadata": {},
   "outputs": [
    {
     "name": "stdout",
     "output_type": "stream",
     "text": [
      "Test Accuracy: 83.08%\n"
     ]
    }
   ],
   "source": [
    "y_pred = best_model.predict(X_test_rfe)\n",
    "\n",
    "# Test accuracy\n",
    "test_accuracy = best_model.score(X_test_rfe, ytest) * 100\n",
    "print(\"Test Accuracy: {:.2f}%\".format(test_accuracy))\n"
   ]
  },
  {
   "cell_type": "markdown",
   "id": "efb20719-6613-45e8-aff2-09b6a50b1ef8",
   "metadata": {},
   "source": [
    "### confusion matrix"
   ]
  },
  {
   "cell_type": "code",
   "execution_count": 36,
   "id": "2784357f-6e10-4233-899e-a8dbabc23df8",
   "metadata": {
    "scrolled": true
   },
   "outputs": [
    {
     "data": {
      "image/png": "[encoded data removed]",
      "text/plain": [
       "<Figure size 640x480 with 2 Axes>"
      ]
     },
     "metadata": {},
     "output_type": "display_data"
    },
    {
     "name": "stdout",
     "output_type": "stream",
     "text": [
      "\n",
      "Classification Report:\n",
      "               precision    recall  f1-score   support\n",
      "\n",
      "           0       0.88      0.93      0.90       284\n",
      "           1       0.34      0.21      0.26        47\n",
      "\n",
      "    accuracy                           0.83       331\n",
      "   macro avg       0.61      0.57      0.58       331\n",
      "weighted avg       0.80      0.83      0.81       331\n",
      "\n"
     ]
    }
   ],
   "source": [
    "from sklearn.metrics import confusion_matrix, classification_report\n",
    "\n",
    "cm = confusion_matrix(ytest, y_pred)\n",
    "sns.heatmap(cm, annot=True, fmt='d', cmap='Blues')\n",
    "plt.xlabel(\"Predicted\")\n",
    "plt.ylabel(\"Actual\")\n",
    "plt.title(\"Confusion Matrix\")\n",
    "plt.show()\n",
    "\n",
    "print(\"\\nClassification Report:\\n\", classification_report(ytest, y_pred))\n"
   ]
  },
  {
   "cell_type": "code",
   "execution_count": 37,
   "id": "4af71ef2-287b-4482-aecc-4e88958442b1",
   "metadata": {},
   "outputs": [],
   "source": [
    "import joblib"
   ]
  },
  {
   "cell_type": "code",
   "execution_count": 38,
   "id": "552e3853-ee7c-41fb-bd97-d08b45d4cc18",
   "metadata": {},
   "outputs": [
    {
     "data": {
      "text/plain": [
       "['model.pkl']"
      ]
     },
     "execution_count": 38,
     "metadata": {},
     "output_type": "execute_result"
    }
   ],
   "source": [
    "joblib.dump(best_model,\"model.pkl\")"
   ]
  },
  {
   "cell_type": "code",
   "execution_count": 39,
   "id": "2b837180-35f6-4595-b7ae-8fda332173a3",
   "metadata": {},
   "outputs": [
    {
     "data": {
      "text/plain": [
       "['scaler.pkl']"
      ]
     },
     "execution_count": 39,
     "metadata": {},
     "output_type": "execute_result"
    }
   ],
   "source": [
    "joblib.dump(scaler, \"scaler.pkl\")\n"
   ]
  },
  {
   "cell_type": "code",
   "execution_count": 40,
   "id": "321e80e1-2951-4cae-9554-edffab45c8ad",
   "metadata": {},
   "outputs": [
    {
     "data": {
      "text/plain": [
       "['numeric_in_selected.pkl']"
      ]
     },
     "execution_count": 40,
     "metadata": {},
     "output_type": "execute_result"
    }
   ],
   "source": [
    "joblib.dump(numeric_in_selected, \"numeric_in_selected.pkl\")\n"
   ]
  }
 ],
 "metadata": {
  "kernelspec": {
   "display_name": "Python 3 (ipykernel)",
   "language": "python",
   "name": "python3"
  },
  "language_info": {
   "codemirror_mode": {
    "name": "ipython",
    "version": 3
   },
   "file_extension": ".py",
   "mimetype": "text/x-python",
   "name": "python",
   "nbconvert_exporter": "python",
   "pygments_lexer": "ipython3",
   "version": "3.12.7"
  }
 },
 "nbformat": 4,
 "nbformat_minor": 5
}
